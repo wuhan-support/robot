{
 "cells": [
  {
   "cell_type": "code",
   "execution_count": 27,
   "metadata": {},
   "outputs": [],
   "source": [
    "import pandas as pd\n",
    "import glob \n",
    "file=pd.read_csv(\"csvs/real_time.csv\",encoding=\"gbk\")"
   ]
  },
  {
   "cell_type": "code",
   "execution_count": 28,
   "metadata": {},
   "outputs": [],
   "source": [
    "file=file.set_index(\"city\")\n",
    "file=file.applymap(lambda x:str(x))"
   ]
  },
  {
   "cell_type": "code",
   "execution_count": 29,
   "metadata": {},
   "outputs": [],
   "source": [
    "file=\"confirmed:\"+file[\"confirmed\"]+\" suspected:\"+file[\"suspected\"]+\" cured:\"+file[\"cured\"]+\" dead:\"+file[\"dead\"]"
   ]
  },
  {
   "cell_type": "code",
   "execution_count": 30,
   "metadata": {
    "scrolled": true
   },
   "outputs": [
    {
     "data": {
      "text/plain": [
       "city\n",
       "武汉           confirmed:698 suspected:0 cured:42 dead:63\n",
       "黄冈             confirmed:154 suspected:0 cured:2 dead:4\n",
       "孝感             confirmed:100 suspected:0 cured:0 dead:1\n",
       "荆门              confirmed:90 suspected:0 cured:0 dead:3\n",
       "咸宁              confirmed:64 suspected:0 cured:0 dead:0\n",
       "随州              confirmed:52 suspected:0 cured:0 dead:0\n",
       "荆州              confirmed:47 suspected:0 cured:0 dead:2\n",
       "十堰              confirmed:40 suspected:0 cured:0 dead:0\n",
       "黄石              confirmed:36 suspected:0 cured:0 dead:1\n",
       "襄阳              confirmed:36 suspected:0 cured:0 dead:0\n",
       "宜昌              confirmed:31 suspected:0 cured:0 dead:1\n",
       "恩施州             confirmed:25 suspected:0 cured:0 dead:0\n",
       "鄂州              confirmed:20 suspected:0 cured:0 dead:0\n",
       "天门              confirmed:13 suspected:0 cured:0 dead:0\n",
       "仙桃              confirmed:12 suspected:0 cured:0 dead:0\n",
       "潜江               confirmed:5 suspected:0 cured:0 dead:1\n",
       "广州              confirmed:39 suspected:0 cured:0 dead:0\n",
       "深圳              confirmed:36 suspected:0 cured:2 dead:0\n",
       "佛山              confirmed:14 suspected:0 cured:0 dead:0\n",
       "珠海              confirmed:12 suspected:0 cured:0 dead:0\n",
       "惠州               confirmed:8 suspected:0 cured:0 dead:0\n",
       "阳江               confirmed:8 suspected:0 cured:0 dead:0\n",
       "湛江               confirmed:5 suspected:0 cured:0 dead:0\n",
       "肇庆               confirmed:4 suspected:0 cured:0 dead:0\n",
       "韶关               confirmed:4 suspected:0 cured:0 dead:0\n",
       "中山               confirmed:4 suspected:0 cured:0 dead:0\n",
       "清远               confirmed:3 suspected:0 cured:0 dead:0\n",
       "揭阳               confirmed:3 suspected:0 cured:0 dead:0\n",
       "东莞               confirmed:2 suspected:0 cured:0 dead:0\n",
       "汕头               confirmed:2 suspected:0 cured:0 dead:0\n",
       "                                ...                    \n",
       "阳泉               confirmed:1 suspected:0 cured:0 dead:0\n",
       "大同               confirmed:1 suspected:0 cured:0 dead:0\n",
       "长治               confirmed:1 suspected:0 cured:0 dead:0\n",
       "临汾               confirmed:1 suspected:0 cured:0 dead:0\n",
       "吕梁               confirmed:1 suspected:0 cured:0 dead:0\n",
       "包头市东河区           confirmed:2 suspected:0 cured:0 dead:0\n",
       "锡林郭勒盟锡林浩特        confirmed:1 suspected:0 cured:0 dead:0\n",
       "鄂尔多斯东胜区          confirmed:1 suspected:0 cured:0 dead:0\n",
       "赤峰市松山区           confirmed:1 suspected:0 cured:0 dead:0\n",
       "呼伦贝尔满洲里          confirmed:1 suspected:0 cured:0 dead:0\n",
       "兴安盟乌兰浩特          confirmed:1 suspected:0 cured:0 dead:0\n",
       "通辽市经济开发区         confirmed:1 suspected:0 cured:0 dead:0\n",
       "锡林郭勒盟二连浩特        confirmed:1 suspected:0 cured:0 dead:0\n",
       "鄂尔多斯鄂托克前旗        confirmed:1 suspected:0 cured:0 dead:0\n",
       "呼伦贝尔牙克石          confirmed:1 suspected:0 cured:0 dead:0\n",
       "铜仁               confirmed:2 suspected:0 cured:0 dead:0\n",
       "黔南州              confirmed:2 suspected:0 cured:0 dead:0\n",
       "贵阳               confirmed:1 suspected:0 cured:0 dead:0\n",
       "黔西南州             confirmed:1 suspected:0 cured:0 dead:0\n",
       "六盘水              confirmed:1 suspected:0 cured:0 dead:0\n",
       "银川               confirmed:5 suspected:0 cured:0 dead:0\n",
       "中卫               confirmed:1 suspected:0 cured:0 dead:0\n",
       "固原               confirmed:1 suspected:0 cured:0 dead:0\n",
       "吉林               confirmed:2 suspected:0 cured:0 dead:0\n",
       "松原               confirmed:2 suspected:0 cured:0 dead:0\n",
       "长春               confirmed:1 suspected:0 cured:0 dead:0\n",
       "四平               confirmed:1 suspected:0 cured:0 dead:0\n",
       "乌鲁木齐             confirmed:4 suspected:0 cured:0 dead:0\n",
       "伊犁州              confirmed:1 suspected:0 cured:0 dead:0\n",
       "西宁               confirmed:4 suspected:0 cured:0 dead:0\n",
       "Length: 306, dtype: object"
      ]
     },
     "execution_count": 30,
     "metadata": {},
     "output_type": "execute_result"
    }
   ],
   "source": [
    "file"
   ]
  },
  {
   "cell_type": "code",
   "execution_count": 36,
   "metadata": {},
   "outputs": [
    {
     "data": {
      "text/plain": [
       "'武汉'"
      ]
     },
     "execution_count": 36,
     "metadata": {},
     "output_type": "execute_result"
    }
   ],
   "source": [
    "import re\n",
    "string=\"sub:武汉\"\n",
    "re.search(\"sub:(.*)\",string).group(1)"
   ]
  },
  {
   "cell_type": "code",
   "execution_count": null,
   "metadata": {},
   "outputs": [],
   "source": []
  }
 ],
 "metadata": {
  "kernelspec": {
   "display_name": "Python 3",
   "language": "python",
   "name": "python3"
  },
  "language_info": {
   "codemirror_mode": {
    "name": "ipython",
    "version": 3
   },
   "file_extension": ".py",
   "mimetype": "text/x-python",
   "name": "python",
   "nbconvert_exporter": "python",
   "pygments_lexer": "ipython3",
   "version": "3.6.4"
  }
 },
 "nbformat": 4,
 "nbformat_minor": 2
}
